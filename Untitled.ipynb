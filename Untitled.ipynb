{
 "cells": [
  {
   "cell_type": "code",
   "execution_count": 11,
   "metadata": {},
   "outputs": [],
   "source": [
    "import datetime\n",
    "import pandas as pd\n",
    "import numpy as np\n",
    "import matplotlib.pyplot as plt\n",
    "\n",
    "import util\n",
    "import write"
   ]
  },
  {
   "cell_type": "code",
   "execution_count": 2,
   "metadata": {},
   "outputs": [],
   "source": [
    "LOGFILE = 'log.txt'\n",
    "OUT_FILE = 'README.md'\n",
    "\n",
    "CRAGFILE = './reference/crag_index.txt'\n",
    "GRADEFILE = './reference/grade_conv.txt'\n",
    "crags = util.get_crag_dict(CRAGFILE)\n",
    "grades = util.get_grade_conv(GRADEFILE)\n",
    "grades_inv = {v: k for k, v in grades.items()}\n",
    "grades_inv[15] = '5a'"
   ]
  },
  {
   "cell_type": "code",
   "execution_count": 3,
   "metadata": {},
   "outputs": [
    {
     "name": "stdout",
     "output_type": "stream",
     "text": [
      "WARNING: Skipping boulders for now (l.28): Lung Dyno; V4; r\n",
      "WARNING: Skipping boulders for now (l.211): Bursdagsgaven; B6A; f\n",
      "WARNING: Skipping boulders for now (l.212): Jade sit; B6B; r\n",
      "WARNING: Skipping boulders for now (l.213): Jade; B5+; r\n",
      "WARNING: Skipping boulders for now (l.214): Nils arne eggen; B6A; r\n",
      "WARNING: Skipping boulders for now (l.259): Hvalfarten; B5; r\n",
      "WARNING: Skipping boulders for now (l.260): Hvalen; B5; r\n",
      "WARNING: Skipping boulders for now (l.261): Elledille; B6B+; r\n",
      "WARNING: Skipping boulders for now (l.262): Krokkofant; B6A+; r\n"
     ]
    }
   ],
   "source": [
    "df = util.read_log_file(LOGFILE, grades)"
   ]
  },
  {
   "cell_type": "code",
   "execution_count": 4,
   "metadata": {},
   "outputs": [
    {
     "data": {
      "text/html": [
       "<div>\n",
       "<style scoped>\n",
       "    .dataframe tbody tr th:only-of-type {\n",
       "        vertical-align: middle;\n",
       "    }\n",
       "\n",
       "    .dataframe tbody tr th {\n",
       "        vertical-align: top;\n",
       "    }\n",
       "\n",
       "    .dataframe thead th {\n",
       "        text-align: right;\n",
       "    }\n",
       "</style>\n",
       "<table border=\"1\" class=\"dataframe\">\n",
       "  <thead>\n",
       "    <tr style=\"text-align: right;\">\n",
       "      <th></th>\n",
       "      <th>date</th>\n",
       "      <th>crag</th>\n",
       "      <th>route</th>\n",
       "      <th>grade</th>\n",
       "      <th>num_grade</th>\n",
       "      <th>ascent_type</th>\n",
       "      <th>comment</th>\n",
       "    </tr>\n",
       "  </thead>\n",
       "  <tbody>\n",
       "    <tr>\n",
       "      <th>0</th>\n",
       "      <td>2015-09-01</td>\n",
       "      <td>hell</td>\n",
       "      <td>Ingenmannsland</td>\n",
       "      <td>6b+</td>\n",
       "      <td>21</td>\n",
       "      <td>r</td>\n",
       "      <td></td>\n",
       "    </tr>\n",
       "    <tr>\n",
       "      <th>1</th>\n",
       "      <td>2015-09-01</td>\n",
       "      <td>hell</td>\n",
       "      <td>Lysere tider</td>\n",
       "      <td>6b+</td>\n",
       "      <td>21</td>\n",
       "      <td>r</td>\n",
       "      <td></td>\n",
       "    </tr>\n",
       "    <tr>\n",
       "      <th>2</th>\n",
       "      <td>2015-09-01</td>\n",
       "      <td>hell</td>\n",
       "      <td>Hell aldersheim</td>\n",
       "      <td>6b+</td>\n",
       "      <td>21</td>\n",
       "      <td>r</td>\n",
       "      <td>Great gym climbing</td>\n",
       "    </tr>\n",
       "    <tr>\n",
       "      <th>3</th>\n",
       "      <td>2015-09-01</td>\n",
       "      <td>hell</td>\n",
       "      <td>Paa rygg</td>\n",
       "      <td>6a+</td>\n",
       "      <td>19</td>\n",
       "      <td>f</td>\n",
       "      <td></td>\n",
       "    </tr>\n",
       "    <tr>\n",
       "      <th>4</th>\n",
       "      <td>2015-09-01</td>\n",
       "      <td>hell</td>\n",
       "      <td>Natoplank</td>\n",
       "      <td>5</td>\n",
       "      <td>14</td>\n",
       "      <td>f</td>\n",
       "      <td></td>\n",
       "    </tr>\n",
       "    <tr>\n",
       "      <th>...</th>\n",
       "      <td>...</td>\n",
       "      <td>...</td>\n",
       "      <td>...</td>\n",
       "      <td>...</td>\n",
       "      <td>...</td>\n",
       "      <td>...</td>\n",
       "      <td>...</td>\n",
       "    </tr>\n",
       "    <tr>\n",
       "      <th>154</th>\n",
       "      <td>2023-03-03</td>\n",
       "      <td>riverside</td>\n",
       "      <td>The Engorger</td>\n",
       "      <td>24</td>\n",
       "      <td>24</td>\n",
       "      <td>f</td>\n",
       "      <td>Nice route, probably soft, one harder move as ...</td>\n",
       "    </tr>\n",
       "    <tr>\n",
       "      <th>155</th>\n",
       "      <td>2023-03-03</td>\n",
       "      <td>riverside</td>\n",
       "      <td>Zoot Alors</td>\n",
       "      <td>24</td>\n",
       "      <td>24</td>\n",
       "      <td>r</td>\n",
       "      <td>Had one attemp about a month back. Maybe soft,...</td>\n",
       "    </tr>\n",
       "    <tr>\n",
       "      <th>156</th>\n",
       "      <td>2023-03-05</td>\n",
       "      <td>bannockburn</td>\n",
       "      <td>Heart of the Desert</td>\n",
       "      <td>17</td>\n",
       "      <td>17</td>\n",
       "      <td>o</td>\n",
       "      <td></td>\n",
       "    </tr>\n",
       "    <tr>\n",
       "      <th>157</th>\n",
       "      <td>2023-03-05</td>\n",
       "      <td>bannockburn</td>\n",
       "      <td>Cherry Picker</td>\n",
       "      <td>20</td>\n",
       "      <td>20</td>\n",
       "      <td>o</td>\n",
       "      <td></td>\n",
       "    </tr>\n",
       "    <tr>\n",
       "      <th>158</th>\n",
       "      <td>2023-03-07</td>\n",
       "      <td>mt iron</td>\n",
       "      <td>Right Bastard</td>\n",
       "      <td>26</td>\n",
       "      <td>26</td>\n",
       "      <td>r</td>\n",
       "      <td>Worked this for three sessions. A bad fall ear...</td>\n",
       "    </tr>\n",
       "  </tbody>\n",
       "</table>\n",
       "<p>159 rows × 7 columns</p>\n",
       "</div>"
      ],
      "text/plain": [
       "           date         crag                route grade  num_grade  \\\n",
       "0    2015-09-01         hell       Ingenmannsland   6b+         21   \n",
       "1    2015-09-01         hell         Lysere tider   6b+         21   \n",
       "2    2015-09-01         hell      Hell aldersheim   6b+         21   \n",
       "3    2015-09-01         hell             Paa rygg   6a+         19   \n",
       "4    2015-09-01         hell            Natoplank     5         14   \n",
       "..          ...          ...                  ...   ...        ...   \n",
       "154  2023-03-03    riverside         The Engorger    24         24   \n",
       "155  2023-03-03    riverside           Zoot Alors    24         24   \n",
       "156  2023-03-05  bannockburn  Heart of the Desert    17         17   \n",
       "157  2023-03-05  bannockburn        Cherry Picker    20         20   \n",
       "158  2023-03-07      mt iron        Right Bastard    26         26   \n",
       "\n",
       "    ascent_type                                            comment  \n",
       "0             r                                                     \n",
       "1             r                                                     \n",
       "2             r                                 Great gym climbing  \n",
       "3             f                                                     \n",
       "4             f                                                     \n",
       "..          ...                                                ...  \n",
       "154           f  Nice route, probably soft, one harder move as ...  \n",
       "155           r  Had one attemp about a month back. Maybe soft,...  \n",
       "156           o                                                     \n",
       "157           o                                                     \n",
       "158           r  Worked this for three sessions. A bad fall ear...  \n",
       "\n",
       "[159 rows x 7 columns]"
      ]
     },
     "execution_count": 4,
     "metadata": {},
     "output_type": "execute_result"
    }
   ],
   "source": [
    "df"
   ]
  },
  {
   "cell_type": "code",
   "execution_count": 5,
   "metadata": {},
   "outputs": [
    {
     "data": {
      "text/html": [
       "<div>\n",
       "<style scoped>\n",
       "    .dataframe tbody tr th:only-of-type {\n",
       "        vertical-align: middle;\n",
       "    }\n",
       "\n",
       "    .dataframe tbody tr th {\n",
       "        vertical-align: top;\n",
       "    }\n",
       "\n",
       "    .dataframe thead th {\n",
       "        text-align: right;\n",
       "    }\n",
       "</style>\n",
       "<table border=\"1\" class=\"dataframe\">\n",
       "  <thead>\n",
       "    <tr style=\"text-align: right;\">\n",
       "      <th></th>\n",
       "      <th>date</th>\n",
       "      <th>crag</th>\n",
       "      <th>route</th>\n",
       "      <th>grade</th>\n",
       "      <th>num_grade</th>\n",
       "      <th>ascent_type</th>\n",
       "      <th>comment</th>\n",
       "    </tr>\n",
       "  </thead>\n",
       "  <tbody>\n",
       "    <tr>\n",
       "      <th>0</th>\n",
       "      <td>2015-09-01</td>\n",
       "      <td>hell</td>\n",
       "      <td>Ingenmannsland</td>\n",
       "      <td>6b+</td>\n",
       "      <td>21</td>\n",
       "      <td>r</td>\n",
       "      <td></td>\n",
       "    </tr>\n",
       "    <tr>\n",
       "      <th>1</th>\n",
       "      <td>2015-09-01</td>\n",
       "      <td>hell</td>\n",
       "      <td>Lysere tider</td>\n",
       "      <td>6b+</td>\n",
       "      <td>21</td>\n",
       "      <td>r</td>\n",
       "      <td></td>\n",
       "    </tr>\n",
       "    <tr>\n",
       "      <th>2</th>\n",
       "      <td>2015-09-01</td>\n",
       "      <td>hell</td>\n",
       "      <td>Hell aldersheim</td>\n",
       "      <td>6b+</td>\n",
       "      <td>21</td>\n",
       "      <td>r</td>\n",
       "      <td>Great gym climbing</td>\n",
       "    </tr>\n",
       "    <tr>\n",
       "      <th>5</th>\n",
       "      <td>2015-09-02</td>\n",
       "      <td>korsvika</td>\n",
       "      <td>Slyngelen</td>\n",
       "      <td>6a</td>\n",
       "      <td>18</td>\n",
       "      <td>r</td>\n",
       "      <td></td>\n",
       "    </tr>\n",
       "    <tr>\n",
       "      <th>8</th>\n",
       "      <td>2018-08-19</td>\n",
       "      <td>britten</td>\n",
       "      <td>Wave of mutilation</td>\n",
       "      <td>22</td>\n",
       "      <td>22</td>\n",
       "      <td>r</td>\n",
       "      <td></td>\n",
       "    </tr>\n",
       "  </tbody>\n",
       "</table>\n",
       "</div>"
      ],
      "text/plain": [
       "         date      crag               route grade  num_grade ascent_type  \\\n",
       "0  2015-09-01      hell      Ingenmannsland   6b+         21           r   \n",
       "1  2015-09-01      hell        Lysere tider   6b+         21           r   \n",
       "2  2015-09-01      hell     Hell aldersheim   6b+         21           r   \n",
       "5  2015-09-02  korsvika           Slyngelen    6a         18           r   \n",
       "8  2018-08-19   britten  Wave of mutilation    22         22           r   \n",
       "\n",
       "              comment  \n",
       "0                      \n",
       "1                      \n",
       "2  Great gym climbing  \n",
       "5                      \n",
       "8                      "
      ]
     },
     "execution_count": 5,
     "metadata": {},
     "output_type": "execute_result"
    }
   ],
   "source": [
    "dfr = df[df.ascent_type == 'r']\n",
    "dfr.head()"
   ]
  },
  {
   "cell_type": "code",
   "execution_count": 6,
   "metadata": {},
   "outputs": [
    {
     "data": {
      "text/plain": [
       "array([21, 21, 21, 18, 22, 23, 21,  0, 22, 21, 21,  2, 24, 23, 24, 22, 23,\n",
       "       25, 21, 23, 22, 18, 14, 25, 21, 23, 22, 24, 22, 22, 25, 23, 24, 25,\n",
       "       26, 23, 25, 27, 27, 23, 24,  0,  0,  0, 23, 23, 24, 22, 25,  0,  0,\n",
       "        0,  0, 19, 22, 21, 25, 16, 25, 25, 26, 29, 26, 26, 25, 25, 21, 25,\n",
       "       20, 22, 25, 23, 25, 23, 24, 26])"
      ]
     },
     "execution_count": 6,
     "metadata": {},
     "output_type": "execute_result"
    }
   ],
   "source": [
    "df[df.ascent_type == 'r'].num_grade.values"
   ]
  },
  {
   "cell_type": "code",
   "execution_count": 7,
   "metadata": {},
   "outputs": [
    {
     "data": {
      "image/png": "[encoded data removed]",
      "text/plain": [
       "<Figure size 840x560 with 1 Axes>"
      ]
     },
     "metadata": {
      "needs_background": "dark"
     },
     "output_type": "display_data"
    }
   ],
   "source": [
    "data = [\n",
    "    df[df.ascent_type == 'o'].num_grade.values,\n",
    "    df[df.ascent_type == 'f'].num_grade.values,\n",
    "    df[df.ascent_type == 'r'].num_grade.values,\n",
    "]\n",
    "\n",
    "first = 14\n",
    "last = 30\n",
    "xticks = np.arange(0, 24, 1)\n",
    "yticks = np.arange(first, last, 1)\n",
    "ytlabels = [f\"{grades_inv[x]} / \" + str(x) for x in np.arange(first, last, 1)]\n",
    "with plt.rc_context({'xtick.color':'grey', 'ytick.color':'gray', 'figure.dpi':140}):\n",
    "    fig = plt.figure()\n",
    "    ax = fig.add_subplot(1,1,1)\n",
    "    ax.set_facecolor('black')\n",
    "    colors = ['white', 'yellow', 'red']\n",
    "    plt.hist(data, np.arange(first - .5, last + .5), stacked=True, density=False, orientation='horizontal', edgecolor=\"black\", color=colors);\n",
    "    plt.yticks(yticks, ytlabels)\n",
    "    plt.xticks(xticks, xticks)\n",
    "    ax.set_axisbelow(True)\n",
    "    ax.xaxis.grid(color='gray', linestyle='dashed')\n",
    "    legend = plt.legend(['Onsight', 'Flash', 'Redpoint'])\n",
    "    frame = legend.get_frame()\n",
    "    frame.set_facecolor('black')\n",
    "    frame.set_edgecolor('black')\n",
    "    for text in legend.get_texts():\n",
    "        text.set_color(\"grey\")\n",
    "    plt.savefig('fig.png')"
   ]
  },
  {
   "cell_type": "code",
   "execution_count": 25,
   "metadata": {},
   "outputs": [],
   "source": [
    "df_sport = df[df.num_grade != 0]"
   ]
  },
  {
   "cell_type": "code",
   "execution_count": 50,
   "metadata": {},
   "outputs": [
    {
     "name": "stdout",
     "output_type": "stream",
     "text": [
      "25.7\n"
     ]
    }
   ],
   "source": [
    "temp = df_sport[df_sport.date >= datetime.date(2022, 1, 1)]\n",
    "temp = temp[temp.date <= datetime.date(2022, 12, 31)]\n",
    "g = temp[temp.ascent_type == 'r'].num_grade.values\n",
    "g.sort()\n",
    "if len(g) > 10:\n",
    "    g = g[-10:]\n",
    "print(np.mean(g))"
   ]
  },
  {
   "cell_type": "code",
   "execution_count": 86,
   "metadata": {},
   "outputs": [
    {
     "data": {
      "text/plain": [
       "array([[18.8       , 16.75      , 20.77777778],\n",
       "       [19.        , 18.33333333, 21.1       ],\n",
       "       [20.66666667, 14.        , 23.        ],\n",
       "       [18.5       , 18.5       , 24.16666667],\n",
       "       [21.8       , 22.8       , 24.4       ],\n",
       "       [17.7       , 20.66666667, 25.7       ],\n",
       "       [19.7       , 20.71428571, 24.33333333]])"
      ]
     },
     "execution_count": 86,
     "metadata": {},
     "output_type": "execute_result"
    }
   ],
   "source": [
    "df_sport = df[df.num_grade != 0]\n",
    "data = []\n",
    "for y in np.arange(2017, 2023 + 1):\n",
    "    temp = df_sport[df_sport.date >= datetime.date(y, 1, 1)]\n",
    "    temp = temp[temp.date <= datetime.date(y, 12, 31)]\n",
    "    data_year = []\n",
    "    for ascent in ['o', 'f', 'r']:\n",
    "        g = temp[temp.ascent_type == ascent].num_grade.values\n",
    "        g.sort()\n",
    "        if len(g) > 10:\n",
    "            g = g[-10:]\n",
    "        data_year.append(np.mean(g))\n",
    "    data.append(data_year)\n",
    "data = np.array(data)\n",
    "data"
   ]
  },
  {
   "cell_type": "code",
   "execution_count": 109,
   "metadata": {},
   "outputs": [
    {
     "name": "stdout",
     "output_type": "stream",
     "text": [
      "[ 2 11 14 16 18 18 19 21 21 22 22 22 23 23 23 24 24 25]\n",
      "[19 18 14 21 22]\n",
      "[18 11 16 22]\n",
      "[ 2 24 23 24 22 23 25 21 23]\n",
      "[12 14 16 18 18 19 19 19 20 20 20 21 21 21 22 22 22 23 23 25]\n",
      "[19]\n",
      "[19 16 19 20 12 20 20 18 21]\n",
      "[22 23 21 22 18 14 25 21 23 22]\n",
      "[14 20 20 22 22 24]\n",
      "[20 20 22]\n",
      "[14]\n",
      "[24 22]\n",
      "[16 18 19 21 22 23 24 25 25 26]\n",
      "[16 21]\n",
      "[19 18]\n",
      "[22 25 23 24 25 26]\n",
      "[19 19 19 20 21 21 21 22 23 23 23 23 23 23 23 23 24 24 24 24 25 25 25 27\n",
      " 27 27]\n",
      "[19 21 21 23 20 19 23 24 23 25]\n",
      "[21 23 19 24 27]\n",
      "[23 25 27 27 23 24 23 23 24 22 25]\n",
      "[11 12 16 16 18 18 18 19 19 20 20 20 20 21 21 21 21 21 21 22 22 22 23 25\n",
      " 25 25 25 25 25 26 26 26 29]\n",
      "[21 12 11 18 21 20 18 21 19 16]\n",
      "[22 21 18 20 20 23]\n",
      "[19 22 21 25 16 25 25 26 29 26 26 25 25 21 25 20 22]\n",
      "[15 17 17 17 18 18 19 19 19 20 20 20 20 21 22 22 23 23 23 23 24 24 25 25\n",
      " 26 26]\n",
      "[23 20 17 19 19 18 22 15 20 19 17 20]\n",
      "[20 22 17 23 18 21 24]\n",
      "[25 23 25 23 24 26]\n"
     ]
    },
    {
     "data": {
      "text/plain": [
       "array([[22.9       , 18.8       , 16.75      , 20.77777778],\n",
       "       [22.        , 19.        , 18.33333333, 21.1       ],\n",
       "       [20.33333333, 20.66666667, 14.        , 23.        ],\n",
       "       [21.9       , 18.5       , 18.5       , 24.16666667],\n",
       "       [25.2       , 21.8       , 22.8       , 24.4       ],\n",
       "       [25.7       , 17.7       , 20.66666667, 25.7       ],\n",
       "       [24.2       , 19.7       , 20.71428571, 24.33333333]])"
      ]
     },
     "execution_count": 109,
     "metadata": {},
     "output_type": "execute_result"
    }
   ],
   "source": [
    "df_sport = df[df.num_grade != 0]\n",
    "data = []\n",
    "for y in np.arange(2017, 2023 + 1):\n",
    "    temp = df_sport[df_sport.date >= datetime.date(y, 1, 1)].copy()\n",
    "    temp = temp[temp.date <= datetime.date(y, 12, 31)]\n",
    "    # print(temp[['date', 'route', 'ascent_type', 'num_grade']])\n",
    "    data_year = []\n",
    "    g = temp.num_grade.values\n",
    "    g.sort()\n",
    "    print(g)\n",
    "    if len(g) > 10:\n",
    "        g = g[-10:]\n",
    "    data_year.append(np.mean(g))\n",
    "    temp = df_sport[df_sport.date >= datetime.date(y, 1, 1)].copy()\n",
    "    temp = temp[temp.date <= datetime.date(y, 12, 31)]\n",
    "    for ascent in ['o', 'f', 'r']:\n",
    "        g = temp[temp.ascent_type == ascent].num_grade.values\n",
    "        # print(temp[temp.ascent_type == ascent])\n",
    "        print(g)\n",
    "        g.sort()\n",
    "        if len(g) > 10:\n",
    "            g = g[-10:]\n",
    "        data_year.append(np.mean(g))\n",
    "    data.append(data_year)\n",
    "data = np.array(data)\n",
    "data"
   ]
  },
  {
   "cell_type": "code",
   "execution_count": 108,
   "metadata": {},
   "outputs": [
    {
     "data": {
      "image/png": "[encoded data removed]",
      "text/plain": [
       "<Figure size 840x560 with 1 Axes>"
      ]
     },
     "metadata": {
      "needs_background": "dark"
     },
     "output_type": "display_data"
    }
   ],
   "source": [
    "start = 2017\n",
    "stop = 2023\n",
    "df_sport = df[df.num_grade != 0]\n",
    "data = []\n",
    "for y in np.arange(start, stop + 1):\n",
    "    temp = df_sport[df_sport.date >= datetime.date(y, 1, 1)]\n",
    "    temp = temp[temp.date <= datetime.date(y, 12, 31)]\n",
    "    data_year = []\n",
    "    for ascent in ['o', 'f', 'r']:\n",
    "        g = temp[temp.ascent_type == ascent].num_grade.values\n",
    "        g.sort()\n",
    "        if len(g) > 10:\n",
    "            g = g[-10:]\n",
    "        data_year.append(np.mean(g))\n",
    "    data.append(data_year)\n",
    "data = np.array(data)\n",
    "x = np.arange(start, stop + 1)\n",
    "\n",
    "with plt.rc_context({'xtick.color':'grey', 'ytick.color':'gray', 'figure.dpi':140}):\n",
    "    fig = plt.figure()\n",
    "    ax = fig.add_subplot(1,1,1)\n",
    "    ax.set_facecolor('black')\n",
    "    plt.plot(x, data[:, 0], 'w-s', x, data[:, 1], 'y-s', x, data[:, 2], 'r-s')\n",
    "    legend = plt.legend(['Onsight', 'Flash', 'Redpoint'])\n",
    "    frame = legend.get_frame()\n",
    "    frame.set_facecolor('black')\n",
    "    frame.set_edgecolor('black')\n",
    "    for text in legend.get_texts():\n",
    "        text.set_color(\"grey\")\n",
    "#     plt.savefig('fig.png')"
   ]
  },
  {
   "cell_type": "code",
   "execution_count": null,
   "metadata": {},
   "outputs": [],
   "source": []
  }
 ],
 "metadata": {
  "kernelspec": {
   "display_name": "Python 3",
   "language": "python",
   "name": "python3"
  },
  "language_info": {
   "codemirror_mode": {
    "name": "ipython",
    "version": 3
   },
   "file_extension": ".py",
   "mimetype": "text/x-python",
   "name": "python",
   "nbconvert_exporter": "python",
   "pygments_lexer": "ipython3",
   "version": "3.8.5"
  }
 },
 "nbformat": 4,
 "nbformat_minor": 4
}
